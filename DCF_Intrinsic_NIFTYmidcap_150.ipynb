{
  "nbformat": 4,
  "nbformat_minor": 0,
  "metadata": {
    "colab": {
      "provenance": [],
      "authorship_tag": "ABX9TyMjMmPHaCptrwJN+KGi4uC4",
      "include_colab_link": true
    },
    "kernelspec": {
      "name": "python3",
      "display_name": "Python 3"
    },
    "language_info": {
      "name": "python"
    }
  },
  "cells": [
    {
      "cell_type": "markdown",
      "metadata": {
        "id": "view-in-github",
        "colab_type": "text"
      },
      "source": [
        "<a href=\"https://colab.research.google.com/github/gpdigitalworld/intrinsic-value-dashboard/blob/main/DCF_Intrinsic_NIFTYmidcap_150.ipynb\" target=\"_parent\"><img src=\"https://colab.research.google.com/assets/colab-badge.svg\" alt=\"Open In Colab\"/></a>"
      ]
    },
    {
      "cell_type": "code",
      "source": [
        "# Install required packages\n",
        "!pip install yfinance pandas openpyxl\n",
        "\n",
        "import yfinance as yf\n",
        "import pandas as pd\n",
        "import time\n",
        "from IPython.display import FileLink\n",
        "\n",
        "# ----------------------------\n",
        "# STEP 1: Load Nifty Midcap 150 List\n",
        "# ----------------------------\n",
        "nifty_midcap_url = \"https://archives.nseindia.com/content/indices/ind_niftymidcap150list.csv\"\n",
        "midcap_df = pd.read_csv(nifty_midcap_url)\n",
        "tickers = midcap_df['Symbol'].tolist()\n",
        "\n",
        "# ----------------------------\n",
        "# STEP 2: DCF Valuation Function\n",
        "# ----------------------------\n",
        "def calculate_intrinsic_value(fcf, growth_rate, discount_rate=0.10, terminal_growth_rate=0.04, years=5):\n",
        "    total_value = 0\n",
        "    for year in range(1, years + 1):\n",
        "        fcf *= (1 + growth_rate)\n",
        "        discounted_fcf = fcf / ((1 + discount_rate) ** year)\n",
        "        total_value += discounted_fcf\n",
        "    terminal_value = fcf * (1 + terminal_growth_rate) / (discount_rate - terminal_growth_rate)\n",
        "    discounted_terminal_value = terminal_value / ((1 + discount_rate) ** years)\n",
        "    total_value += discounted_terminal_value\n",
        "    return total_value\n",
        "\n",
        "# ----------------------------\n",
        "# STEP 3: Run DCF Scan with Filters\n",
        "# ----------------------------\n",
        "undervalued = []\n",
        "\n",
        "print(\"🔍 Scanning Nifty Midcap 150 stocks...\\n\")\n",
        "for symbol in tickers:\n",
        "    try:\n",
        "        stock = yf.Ticker(f\"{symbol}.NS\")\n",
        "        info = stock.info\n",
        "\n",
        "        # Collect key data\n",
        "        price = info.get(\"currentPrice\")\n",
        "        fcf = info.get(\"freeCashflow\")\n",
        "        growth = info.get(\"earningsGrowth\")  # as decimal\n",
        "        roe = info.get(\"returnOnEquity\")     # as decimal\n",
        "        debt_to_equity = info.get(\"debtToEquity\")\n",
        "\n",
        "        # Apply filters\n",
        "        if not all([price, fcf, growth, roe, debt_to_equity]):\n",
        "            continue\n",
        "        if roe < 0.15 or debt_to_equity > 0.5 or fcf <= 0 or growth <= 0:\n",
        "            continue\n",
        "\n",
        "        # Run DCF\n",
        "        intrinsic = calculate_intrinsic_value(fcf, growth)\n",
        "\n",
        "        if intrinsic > price:\n",
        "            undervalued.append({\n",
        "                \"Symbol\": symbol,\n",
        "                \"Company\": info.get(\"shortName\"),\n",
        "                \"Price\": round(price, 2),\n",
        "                \"Intrinsic Value\": round(intrinsic, 2),\n",
        "                \"Upside (%)\": round((intrinsic - price) / price * 100, 2),\n",
        "                \"ROE\": round(roe * 100, 2),\n",
        "                \"Debt to Equity\": round(debt_to_equity, 2)\n",
        "            })\n",
        "\n",
        "    except Exception as e:\n",
        "        print(f\"⚠️ Error fetching {symbol}: {e}\")\n",
        "\n",
        "    time.sleep(1)  # Avoid rate limiting\n",
        "\n",
        "# ----------------------------\n",
        "# STEP 4: Save and Download\n",
        "# ----------------------------\n",
        "if undervalued:\n",
        "    result_df = pd.DataFrame(undervalued)\n",
        "    file_path = \"nifty_midcap_undervalued_filtered.xlsx\"\n",
        "    result_df.to_excel(file_path, index=False)\n",
        "    print(\"\\n✅ Scan complete. Download your results below:\")\n",
        "    display(FileLink(file_path))\n",
        "else:\n",
        "    print(\"❌ No undervalued midcap stocks found that meet your criteria.\")\n"
      ],
      "metadata": {
        "colab": {
          "base_uri": "https://localhost:8080/"
        },
        "id": "nk2y3nf68Alv",
        "outputId": "fc244d63-d1ab-4168-b4cc-3952986d9ee4"
      },
      "execution_count": 9,
      "outputs": [
        {
          "output_type": "stream",
          "name": "stdout",
          "text": [
            "Requirement already satisfied: yfinance in /usr/local/lib/python3.11/dist-packages (0.2.55)\n",
            "Requirement already satisfied: pandas in /usr/local/lib/python3.11/dist-packages (2.2.2)\n",
            "Requirement already satisfied: openpyxl in /usr/local/lib/python3.11/dist-packages (3.1.5)\n",
            "Requirement already satisfied: numpy>=1.16.5 in /usr/local/lib/python3.11/dist-packages (from yfinance) (2.0.2)\n",
            "Requirement already satisfied: requests>=2.31 in /usr/local/lib/python3.11/dist-packages (from yfinance) (2.32.3)\n",
            "Requirement already satisfied: multitasking>=0.0.7 in /usr/local/lib/python3.11/dist-packages (from yfinance) (0.0.11)\n",
            "Requirement already satisfied: platformdirs>=2.0.0 in /usr/local/lib/python3.11/dist-packages (from yfinance) (4.3.7)\n",
            "Requirement already satisfied: pytz>=2022.5 in /usr/local/lib/python3.11/dist-packages (from yfinance) (2025.2)\n",
            "Requirement already satisfied: frozendict>=2.3.4 in /usr/local/lib/python3.11/dist-packages (from yfinance) (2.4.6)\n",
            "Requirement already satisfied: peewee>=3.16.2 in /usr/local/lib/python3.11/dist-packages (from yfinance) (3.17.9)\n",
            "Requirement already satisfied: beautifulsoup4>=4.11.1 in /usr/local/lib/python3.11/dist-packages (from yfinance) (4.13.3)\n",
            "Requirement already satisfied: python-dateutil>=2.8.2 in /usr/local/lib/python3.11/dist-packages (from pandas) (2.8.2)\n",
            "Requirement already satisfied: tzdata>=2022.7 in /usr/local/lib/python3.11/dist-packages (from pandas) (2025.2)\n",
            "Requirement already satisfied: et-xmlfile in /usr/local/lib/python3.11/dist-packages (from openpyxl) (2.0.0)\n",
            "Requirement already satisfied: soupsieve>1.2 in /usr/local/lib/python3.11/dist-packages (from beautifulsoup4>=4.11.1->yfinance) (2.6)\n",
            "Requirement already satisfied: typing-extensions>=4.0.0 in /usr/local/lib/python3.11/dist-packages (from beautifulsoup4>=4.11.1->yfinance) (4.13.1)\n",
            "Requirement already satisfied: six>=1.5 in /usr/local/lib/python3.11/dist-packages (from python-dateutil>=2.8.2->pandas) (1.17.0)\n",
            "Requirement already satisfied: charset-normalizer<4,>=2 in /usr/local/lib/python3.11/dist-packages (from requests>=2.31->yfinance) (3.4.1)\n",
            "Requirement already satisfied: idna<4,>=2.5 in /usr/local/lib/python3.11/dist-packages (from requests>=2.31->yfinance) (3.10)\n",
            "Requirement already satisfied: urllib3<3,>=1.21.1 in /usr/local/lib/python3.11/dist-packages (from requests>=2.31->yfinance) (2.3.0)\n",
            "Requirement already satisfied: certifi>=2017.4.17 in /usr/local/lib/python3.11/dist-packages (from requests>=2.31->yfinance) (2025.1.31)\n",
            "🔍 Scanning Nifty Midcap 150 stocks...\n",
            "\n",
            "❌ No undervalued midcap stocks found that meet your criteria.\n"
          ]
        }
      ]
    }
  ]
}